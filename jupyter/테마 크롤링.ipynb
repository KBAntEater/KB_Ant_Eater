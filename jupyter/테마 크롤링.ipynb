{
 "cells": [
  {
   "cell_type": "code",
   "execution_count": null,
   "id": "4e521287",
   "metadata": {},
   "outputs": [],
   "source": [
    "from selenium import webdriver\n",
    "from bs4 import BeautifulSoup\n",
    "import time\n",
    "import pandas as pd\n",
    "pd.set_option('display.max_columns', None) # 데이터프레임 컬럼 display\n",
    "\n",
    "import warnings\n",
    "warnings.filterwarnings('ignore') # 경고 무시\n",
    "\n",
    "from selenium.webdriver.common.keys import Keys\n",
    "from selenium.webdriver.common.by import By\n",
    "# 크롬 브라우저\n",
    "driver = webdriver.Chrome('chromedriver.exe')\n",
    "url = 'https://finance.naver.com/sise/theme.naver'\n",
    "driver.get(url)\n",
    "time.sleep(1)\n",
    "driver.implicitly_wait(15)"
   ]
  },
  {
   "cell_type": "code",
   "execution_count": null,
   "id": "cb3f91f2",
   "metadata": {},
   "outputs": [],
   "source": [
    "# 테마명 뽑아오기 연습 \n",
    "url =f'https://finance.naver.com/sise/theme.naver?&page=1'\n",
    "driver.get(url)\n",
    "time.sleep(1)\n",
    "soup=BeautifulSoup(driver.page_source)        \n",
    "tables=soup.select('table')\n",
    "table = tables[0]\n",
    "table_html = str(table)\n",
    "table_list = pd.read_html(table_html)\n",
    "table_df = table_list[0]\n",
    "table_df['테마명']"
   ]
  },
  {
   "cell_type": "markdown",
   "id": "e66fc1ac",
   "metadata": {},
   "source": [
    "## 1~6페이지\n"
   ]
  },
  {
   "cell_type": "code",
   "execution_count": null,
   "id": "73b9e5c8",
   "metadata": {
    "scrolled": false
   },
   "outputs": [],
   "source": [
    "#//*[@id=\"contentarea_left\"]/table[1]/tbody/tr[8]/td[1]/a\n",
    "##//*[@id=\"contentarea_left\"]/table[1]/tbody/tr[12]/td[1]/a\n",
    "#//*[@id=\"contentarea_left\"]/table[1]/tbody/tr[12]/td[1]/a\n",
    "#9,10,11 , 17,18,19 \n",
    "#//*[@id=\"contentarea_left\"]/table[1]/tbody/tr[16]/td[1]/a\n",
    "\n",
    "for i in range(1,7):\n",
    "    url =f'https://finance.naver.com/sise/theme.naver?&page={i}'\n",
    "    driver.get(url)\n",
    "    time.sleep(1)\n",
    "    \n",
    "    \n",
    "    a = driver.find_elements(By.XPATH,'//*[@id=\"contentarea_left\"]/table[1]/tbody/tr')\n",
    "    # concat 할 더미 데이터 프레임을 생성 \n",
    "    res = pd.DataFrame({ '종목명':'더미더미','테마명':['더미','더미']  })\n",
    "    soup= BeautifulSoup(driver.page_source)\n",
    "    themes =soup.select('table')\n",
    "    theme = themes[0]\n",
    "    theme_html = str(theme)\n",
    "    theme_list = pd.read_html(theme_html)\n",
    "    theme_df = theme_list[0]\n",
    "    display(theme_df['테마명'])\n",
    "    for w in range(4,len(a)-1,8): # 테마 이름 w-3 부터~ \n",
    "        print('w는 ',w)\n",
    "        \n",
    "        idx_theme = w-3\n",
    "        print( 'idx theme 는 ', idx_theme)\n",
    "        for idx in range(0,5):\n",
    "            m = w+idx\n",
    "            \n",
    "            print('idx 는' ,m)\n",
    "            url_t =f\"//*[@id='contentarea_left']/table[1]/tbody/tr[{m}]/td/a\"\n",
    "            \n",
    "            driver.find_element(By.XPATH, url_t).click()\n",
    "            \n",
    "            \n",
    "            soup=BeautifulSoup(driver.page_source)        \n",
    "            tables=soup.select('table')\n",
    "            table = tables[2]\n",
    "            table_html = str(table)\n",
    "            table_list = pd.read_html(table_html)\n",
    "            table_df = table_list[0]\n",
    "            print('테마 인덱스 ',idx_theme)\n",
    "            table_df['종목명.1'] =theme_df['테마명'].values[idx_theme][0]\n",
    "            table_df=table_df[['종목명','종목명.1']]\n",
    "            display(table_df)\n",
    "            time.sleep(1)\n",
    "            \n",
    "            driver.get(url)\n",
    "            time.sleep(1)\n",
    "            idx_theme = idx_theme+1\n",
    "            res=pd.concat([res,table_df],axis=0)\n",
    "            display(res)\n",
    "        "
   ]
  },
  {
   "cell_type": "code",
   "execution_count": null,
   "id": "4760d96a",
   "metadata": {},
   "outputs": [],
   "source": [
    "## 1~6페이지는 ex 라는 이름의 dataframe으로 저장. \n",
    "\n",
    "ex = res.copy()\n",
    "ex.drop('테마명',axis='columns', inplace=True)"
   ]
  },
  {
   "cell_type": "code",
   "execution_count": null,
   "id": "55b4f296",
   "metadata": {},
   "outputs": [],
   "source": [
    "ex.info()"
   ]
  },
  {
   "cell_type": "code",
   "execution_count": null,
   "id": "c3f638dc",
   "metadata": {},
   "outputs": [],
   "source": [
    "ex.dropna(axis=0,inplace=True)\n",
    "ex.info()\n"
   ]
  },
  {
   "cell_type": "markdown",
   "id": "07080e0d",
   "metadata": {},
   "source": [
    "## 7페이지\n"
   ]
  },
  {
   "cell_type": "code",
   "execution_count": null,
   "id": "3086694b",
   "metadata": {},
   "outputs": [],
   "source": [
    "#//*[@id=\"contentarea_left\"]/table[1]/tbody/tr[8]/td[1]/a\n",
    "##//*[@id=\"contentarea_left\"]/table[1]/tbody/tr[12]/td[1]/a\n",
    "#//*[@id=\"contentarea_left\"]/table[1]/tbody/tr[12]/td[1]/a\n",
    "#9,10,11 , 17,18,19 \n",
    "#//*[@id=\"contentarea_left\"]/table[1]/tbody/tr[16]/td[1]/a\n",
    "\n",
    "\n",
    "url =f'https://finance.naver.com/sise/theme.naver?&page=7'\n",
    "driver.get(url)\n",
    "time.sleep(1)\n",
    "\n",
    "\n",
    "a = driver.find_elements(By.XPATH,'//*[@id=\"contentarea_left\"]/table[1]/tbody/tr')\n",
    "# concat 할 더미 데이터 프레임을 생성 \n",
    "res = pd.DataFrame({ '종목명':'더미더미','테마명':['더미','더미']  })\n",
    "soup= BeautifulSoup(driver.page_source)\n",
    "themes =soup.select('table')\n",
    "theme = themes[0]\n",
    "theme_html = str(theme)\n",
    "theme_list = pd.read_html(theme_html)\n",
    "theme_df = theme_list[0]\n",
    "display(theme_df['테마명'])\n",
    "for w in range(4,len(a)-1,8): # 테마 이름 w-3 부터~ \n",
    "    print('w는 ',w)\n",
    "\n",
    "    idx_theme = w-3\n",
    "    print( 'idx theme 는 ', idx_theme)\n",
    "    for idx in range(0,5):\n",
    "        try :\n",
    "            m = w+idx\n",
    "\n",
    "            print('idx 는' ,m)\n",
    "            url_t =f\"//*[@id='contentarea_left']/table[1]/tbody/tr[{m}]/td/a\"\n",
    "\n",
    "            driver.find_element(By.XPATH, url_t).click()\n",
    "\n",
    "\n",
    "            soup=BeautifulSoup(driver.page_source)        \n",
    "            tables=soup.select('table')\n",
    "            table = tables[2]\n",
    "            table_html = str(table)\n",
    "            table_list = pd.read_html(table_html)\n",
    "            table_df = table_list[0]\n",
    "            print('테마 인덱스 ',idx_theme)\n",
    "            table_df['종목명.1'] =theme_df['테마명'].values[idx_theme][0]\n",
    "            table_df=table_df[['종목명','종목명.1']]\n",
    "            display(table_df)\n",
    "            time.sleep(1)\n",
    "\n",
    "            driver.get(url)\n",
    "            time.sleep(1)\n",
    "            idx_theme = idx_theme+1\n",
    "            res=pd.concat([res,table_df],axis=0)\n",
    "            \n",
    "        except:\n",
    "            continue\n"
   ]
  },
  {
   "cell_type": "code",
   "execution_count": null,
   "id": "bf2dfc16",
   "metadata": {},
   "outputs": [],
   "source": [
    "page7 = res.copy()\n",
    "page7=page7[['종목명','종목명.1']]\n",
    "pp = page7.copy()"
   ]
  },
  {
   "cell_type": "code",
   "execution_count": null,
   "id": "8bc69b08",
   "metadata": {},
   "outputs": [],
   "source": [
    "pp.dropna(axis=0,inplace=True)\n",
    "pp.info()\n"
   ]
  },
  {
   "cell_type": "markdown",
   "id": "291075f2",
   "metadata": {},
   "source": [
    "## 페이지 합병\n"
   ]
  },
  {
   "cell_type": "code",
   "execution_count": null,
   "id": "0b6acf33",
   "metadata": {},
   "outputs": [],
   "source": [
    "## col name = 종목명 ( 주식 이름)\n",
    "## col name = 종목명.1 (테마명 )\n",
    "all_theme =pd.concat([pp,ex],axis=0)"
   ]
  },
  {
   "cell_type": "code",
   "execution_count": null,
   "id": "b6b73b3d",
   "metadata": {},
   "outputs": [],
   "source": [
    "all_theme.to_excel(excel_writer='테마주식 리스트.xlsx')\n"
   ]
  },
  {
   "cell_type": "code",
   "execution_count": null,
   "id": "a16c207f",
   "metadata": {},
   "outputs": [],
   "source": [
    "all_theme['종목명.1'].unique()"
   ]
  }
 ],
 "metadata": {
  "kernelspec": {
   "display_name": "Python 3.9.12 ('base')",
   "language": "python",
   "name": "python3"
  },
  "language_info": {
   "codemirror_mode": {
    "name": "ipython",
    "version": 3
   },
   "file_extension": ".py",
   "mimetype": "text/x-python",
   "name": "python",
   "nbconvert_exporter": "python",
   "pygments_lexer": "ipython3",
   "version": "3.9.12"
  },
  "toc": {
   "base_numbering": 1,
   "nav_menu": {},
   "number_sections": true,
   "sideBar": true,
   "skip_h1_title": false,
   "title_cell": "Table of Contents",
   "title_sidebar": "Contents",
   "toc_cell": false,
   "toc_position": {},
   "toc_section_display": true,
   "toc_window_display": false
  },
  "vscode": {
   "interpreter": {
    "hash": "2043299c89c8cd0b4d1a6f5cf4529bd58e6a4e0fe3181a25e0d328c821cdc5c5"
   }
  }
 },
 "nbformat": 4,
 "nbformat_minor": 5
}
